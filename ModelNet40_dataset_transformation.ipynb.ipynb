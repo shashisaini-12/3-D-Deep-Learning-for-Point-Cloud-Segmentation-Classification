{
 "cells": [
  {
   "cell_type": "code",
   "execution_count": 22,
   "metadata": {},
   "outputs": [],
   "source": [
    "import os\n",
    "import random\n",
    "import numpy as np\n",
    "import open3d as o3d\n",
    "import trimesh"
   ]
  },
  {
   "cell_type": "code",
   "execution_count": null,
   "metadata": {},
   "outputs": [],
   "source": [
    "#  Convert .off file to .npy file \n",
    "# Generate point cloud data from .off (mesh) file\n",
    "\n",
    "\n",
    "def generate_pointcloud_from_mesh(mesh, num_points):\n",
    " \"\"\"\n",
    " Generates a point cloud by sampling points from the surface of a mesh.\n",
    "\n",
    " Args:\n",
    "     mesh: A Trimesh mesh object.\n",
    "     num_points: Number of points to sample.\n",
    "\n",
    " Returns:\n",
    "     A NumPy array of shape (num_points, 3) representing the point cloud.\n",
    " \"\"\"\n",
    " points = mesh.sample(num_points)\n",
    " return points\n",
    "\n",
    "def create_pointcloud_dataset(dataset_path, num_points_per_mesh, output_path):\n",
    " \"\"\"\n",
    " Creates a point cloud dataset from a directory of OFF files.\n",
    "\n",
    " Args:\n",
    "     dataset_path: Path to the directory containing the OFF files.\n",
    "     num_points_per_mesh: Number of points to generate for each mesh.\n",
    "     output_path: Path to the output directory for the point cloud data.\n",
    " \"\"\"\n",
    " for root, _, files in os.walk(dataset_path):\n",
    "   for filename in files:\n",
    "     if filename.endswith(\".off\"):\n",
    "       # Extract directory structure up to the parent directory of the .off file\n",
    "       rel_path = os.path.dirname(os.path.relpath(os.path.join(root, filename), dataset_path))\n",
    "       output_dir = os.path.join(output_path, rel_path)\n",
    "       os.makedirs(output_dir, exist_ok=True)  # Create only the parent directory\n",
    "\n",
    "       # Load the mesh\n",
    "       mesh = trimesh.load(os.path.join(root, filename))\n",
    "\n",
    "       # Generate point cloud from the mesh\n",
    "       pointcloud = generate_pointcloud_from_mesh(mesh, num_points_per_mesh)\n",
    "\n",
    "       # Save point cloud as a numpy file (modify extension if needed)\n",
    "       output_file = os.path.join(output_dir, os.path.basename(os.path.splitext(filename)[0]) + \".npy\")\n",
    "       np.save(output_file, pointcloud)\n",
    "\n",
    "# Define dataset path, number of points per mesh, and output path (modify as needed)\n",
    "dataset_path = r\"write\\the\\path\\of\\.off dataset\\ folder\"\n",
    "num_points_per_mesh = 12000  # You can choose this value\n",
    "output_path = r\"write the path\\ where\\want to save \\transformed data\"\n",
    "\n",
    "create_pointcloud_dataset(dataset_path, num_points_per_mesh, output_path)\n",
    "\n",
    "print(\"Point cloud dataset generation complete!\")\n"
   ]
  },
  {
   "cell_type": "code",
   "execution_count": null,
   "metadata": {},
   "outputs": [],
   "source": [
    "#  For Visualization of point cloud Data\n",
    "\n",
    "\n",
    "\n",
    "def visualize_pointcloud(pointcloud_file):\n",
    "  \"\"\"\n",
    "  Visualizes a point cloud loaded from a NumPy file.\n",
    "\n",
    "  Args:\n",
    "      pointcloud_file: Path to the .npy file containing the point cloud data.\n",
    "  \"\"\"\n",
    "  pointcloud = np.load(pointcloud_file)\n",
    "  pcd = o3d.geometry.PointCloud()\n",
    "  pcd.points = o3d.utility.Vector3dVector(pointcloud)\n",
    "  o3d.visualization.draw_geometries([pcd])\n",
    "\n",
    "# Define path to a sample point cloud file (replace with your actual path)\n",
    "sample_pointcloud_file = r\"write the directory name\\piano\\train\\piano_0007.npy\"\n",
    "\n",
    "visualize_pointcloud(sample_pointcloud_file)\n"
   ]
  }
 ],
 "metadata": {
  "kernelspec": {
   "display_name": "Python 3",
   "language": "python",
   "name": "python3"
  },
  "language_info": {
   "codemirror_mode": {
    "name": "ipython",
    "version": 3
   },
   "file_extension": ".py",
   "mimetype": "text/x-python",
   "name": "python",
   "nbconvert_exporter": "python",
   "pygments_lexer": "ipython3",
   "version": "3.11.0"
  }
 },
 "nbformat": 4,
 "nbformat_minor": 2
}
